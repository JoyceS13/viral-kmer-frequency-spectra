{
 "cells": [
  {
   "cell_type": "markdown",
   "metadata": {},
   "source": [
    "# Example usage"
   ]
  },
  {
   "cell_type": "markdown",
   "metadata": {},
   "source": [
    "In this example we generate the plot using the data in results/kat_results\n",
    "\n",
    "Necessary packages can be installed using the environment.yaml file"
   ]
  },
  {
   "cell_type": "markdown",
   "metadata": {},
   "source": [
    "This data was generated using the following command:"
   ]
  },
  {
   "cell_type": "code",
   "execution_count": null,
   "metadata": {},
   "outputs": [],
   "source": [
    "path_to_fastq = \"\"\n",
    "output_file_name = \"sample.hist\"\n",
    "!kat hist {path_to_fastq} -o {output_file_name}"
   ]
  },
  {
   "cell_type": "markdown",
   "metadata": {},
   "source": [
    "The plot can then be generated using the following code:"
   ]
  },
  {
   "cell_type": "code",
   "execution_count": null,
   "metadata": {},
   "outputs": [],
   "source": [
    "from helper import *\n",
    "\n",
    "plot_kmer_histograms({\n",
    "    \"HIV Pure\": \"hiv-pure.hist\",\n",
    "    \"HIV Patient\": \"hiv-patient.hist\",\n",
    "    \"HIV-5 Labmix\": \"hiv-5-labmix.hist\",\n",
    "    \"HIV-5 Sim\": \"hiv-5-sim.hist\"\n",
    "}, \"graphs\", \"histograms_smoothed\",normalize=True, smoothing=True, sigma=5)"
   ]
  }
 ],
 "metadata": {
  "language_info": {
   "name": "python"
  }
 },
 "nbformat": 4,
 "nbformat_minor": 2
}
